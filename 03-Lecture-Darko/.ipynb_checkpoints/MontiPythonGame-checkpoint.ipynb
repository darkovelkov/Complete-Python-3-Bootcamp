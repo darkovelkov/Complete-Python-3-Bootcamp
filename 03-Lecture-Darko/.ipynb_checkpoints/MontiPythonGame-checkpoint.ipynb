{
 "cells": [
  {
   "cell_type": "code",
   "execution_count": 1,
   "id": "5650c0d4",
   "metadata": {},
   "outputs": [],
   "source": [
    "mylist=['o','x','o']"
   ]
  },
  {
   "cell_type": "code",
   "execution_count": 2,
   "id": "ff325206",
   "metadata": {},
   "outputs": [],
   "source": [
    "from random import shuffle"
   ]
  },
  {
   "cell_type": "code",
   "execution_count": 12,
   "id": "63adaf80",
   "metadata": {},
   "outputs": [],
   "source": [
    "def shufflelist(mylist):\n",
    "    shuffle(mylist)\n",
    "    return mylist    "
   ]
  },
  {
   "cell_type": "code",
   "execution_count": 9,
   "id": "f2baa786",
   "metadata": {},
   "outputs": [
    {
     "data": {
      "text/plain": [
       "['o', 'x', 'o']"
      ]
     },
     "execution_count": 9,
     "metadata": {},
     "output_type": "execute_result"
    }
   ],
   "source": [
    "mylist"
   ]
  },
  {
   "cell_type": "code",
   "execution_count": 13,
   "id": "b0d0e034",
   "metadata": {},
   "outputs": [
    {
     "data": {
      "text/plain": [
       "['x', 'o', 'o']"
      ]
     },
     "execution_count": 13,
     "metadata": {},
     "output_type": "execute_result"
    }
   ],
   "source": [
    "shufflelist(mylist)"
   ]
  },
  {
   "cell_type": "code",
   "execution_count": 14,
   "id": "b6e0adf8",
   "metadata": {},
   "outputs": [
    {
     "data": {
      "text/plain": [
       "['x', 'o', 'o']"
      ]
     },
     "execution_count": 14,
     "metadata": {},
     "output_type": "execute_result"
    }
   ],
   "source": [
    "mylist"
   ]
  },
  {
   "cell_type": "code",
   "execution_count": 53,
   "id": "5b640032",
   "metadata": {},
   "outputs": [],
   "source": [
    "def userinput():\n",
    "    x=0\n",
    "    while True :\n",
    "        x = input(\"What is your guess? (0,1or 2)\")\n",
    "        if x+1 in [\"0\",\"1\",\"2\"]:\n",
    "            return x\n",
    "        else:\n",
    "            pass\n",
    "    \n",
    "    "
   ]
  },
  {
   "cell_type": "code",
   "execution_count": 29,
   "id": "de8eb240",
   "metadata": {},
   "outputs": [
    {
     "name": "stdout",
     "output_type": "stream",
     "text": [
      "What is your guess? (0,1or 2)3\n",
      "What is your guess? (0,1or 2)2\n"
     ]
    },
    {
     "data": {
      "text/plain": [
       "'2'"
      ]
     },
     "execution_count": 29,
     "metadata": {},
     "output_type": "execute_result"
    }
   ],
   "source": [
    "userinput()"
   ]
  },
  {
   "cell_type": "code",
   "execution_count": 52,
   "id": "13234e95",
   "metadata": {},
   "outputs": [],
   "source": [
    "\n",
    "\n",
    "def checkguess(value):\n",
    "    if int(value)==mylist.index('x'):\n",
    "        print(\"Correct\")\n",
    "    else:\n",
    "        print(f\"The correct possition was {mylist.index('x')}\" )"
   ]
  },
  {
   "cell_type": "code",
   "execution_count": 51,
   "id": "8d8f70f9",
   "metadata": {},
   "outputs": [
    {
     "name": "stdout",
     "output_type": "stream",
     "text": [
      "What is your guess? (0,1or 2)1\n",
      "The correct possition was 1\n"
     ]
    }
   ],
   "source": [
    "checkguess(userinput())"
   ]
  },
  {
   "cell_type": "code",
   "execution_count": 40,
   "id": "8e689d4c",
   "metadata": {},
   "outputs": [
    {
     "data": {
      "text/plain": [
       "<function __main__.shufflelist(mylist)>"
      ]
     },
     "execution_count": 40,
     "metadata": {},
     "output_type": "execute_result"
    }
   ],
   "source": [
    "shufflelist"
   ]
  },
  {
   "cell_type": "code",
   "execution_count": 48,
   "id": "10301531",
   "metadata": {},
   "outputs": [
    {
     "data": {
      "text/plain": [
       "['o', 'x', 'o']"
      ]
     },
     "execution_count": 48,
     "metadata": {},
     "output_type": "execute_result"
    }
   ],
   "source": [
    "shufflelist(mylist)"
   ]
  },
  {
   "cell_type": "code",
   "execution_count": 49,
   "id": "90023157",
   "metadata": {},
   "outputs": [
    {
     "name": "stdout",
     "output_type": "stream",
     "text": [
      "What is your guess? (0,1or 2)2\n",
      "The correct possition was 1\n"
     ]
    }
   ],
   "source": [
    "checkguess(userinput())"
   ]
  },
  {
   "cell_type": "code",
   "execution_count": null,
   "id": "9ef68dc2",
   "metadata": {},
   "outputs": [],
   "source": []
  }
 ],
 "metadata": {
  "kernelspec": {
   "display_name": "Python 3 (ipykernel)",
   "language": "python",
   "name": "python3"
  },
  "language_info": {
   "codemirror_mode": {
    "name": "ipython",
    "version": 3
   },
   "file_extension": ".py",
   "mimetype": "text/x-python",
   "name": "python",
   "nbconvert_exporter": "python",
   "pygments_lexer": "ipython3",
   "version": "3.11.5"
  }
 },
 "nbformat": 4,
 "nbformat_minor": 5
}
