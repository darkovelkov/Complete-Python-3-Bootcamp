{
 "cells": [
  {
   "cell_type": "code",
   "execution_count": 16,
   "id": "a535a80d",
   "metadata": {},
   "outputs": [],
   "source": [
    "class Animal():\n",
    "    def __init__(self,name):\n",
    "        self.name=name\n",
    "        \n",
    "    def __str__(self):\n",
    "        return \"Dzukelata se vika \" + self.name"
   ]
  },
  {
   "cell_type": "code",
   "execution_count": 17,
   "id": "083fe125",
   "metadata": {},
   "outputs": [],
   "source": [
    "tor = Animal(\"pece\")"
   ]
  },
  {
   "cell_type": "code",
   "execution_count": 22,
   "id": "1d335785",
   "metadata": {},
   "outputs": [],
   "source": [
    "class Cat(Animal):\n",
    "    def __str__(self):\n",
    "        return \"Dzukelata e machka i se vika \" + self.name"
   ]
  },
  {
   "cell_type": "raw",
   "id": "e146e5bd",
   "metadata": {},
   "source": []
  },
  {
   "cell_type": "code",
   "execution_count": 24,
   "id": "64d8f8e1",
   "metadata": {},
   "outputs": [],
   "source": [
    "chino = Cat(\"mile\")"
   ]
  },
  {
   "cell_type": "code",
   "execution_count": 25,
   "id": "d85e31a5",
   "metadata": {},
   "outputs": [
    {
     "name": "stdout",
     "output_type": "stream",
     "text": [
      "Dzukelata e machka i se vika mile\n"
     ]
    }
   ],
   "source": [
    "print(chino)"
   ]
  },
  {
   "cell_type": "code",
   "execution_count": null,
   "id": "e12b20bf",
   "metadata": {},
   "outputs": [],
   "source": []
  }
 ],
 "metadata": {
  "kernelspec": {
   "display_name": "Python 3 (ipykernel)",
   "language": "python",
   "name": "python3"
  },
  "language_info": {
   "codemirror_mode": {
    "name": "ipython",
    "version": 3
   },
   "file_extension": ".py",
   "mimetype": "text/x-python",
   "name": "python",
   "nbconvert_exporter": "python",
   "pygments_lexer": "ipython3",
   "version": "3.11.5"
  }
 },
 "nbformat": 4,
 "nbformat_minor": 5
}
