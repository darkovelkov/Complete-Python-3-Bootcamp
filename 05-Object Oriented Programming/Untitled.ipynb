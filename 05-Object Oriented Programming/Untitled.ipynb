{
 "cells": [
  {
   "cell_type": "code",
   "execution_count": 16,
   "id": "66cfc15f",
   "metadata": {},
   "outputs": [],
   "source": [
    "class Account():\n",
    "    def __init__(self,owner,balance):\n",
    "        self.owner=owner\n",
    "        self.balance=balance\n",
    "    \n",
    "    def withdrow(self,amount):\n",
    "        if amount>=self.balance:\n",
    "            print (\"Njama dovolno pari bate \")\n",
    "        else:\n",
    "            self.balance = self.balance-amount \n",
    "    def deposit(self,amount):\n",
    "        self.balance=self.balance+amount"
   ]
  },
  {
   "cell_type": "code",
   "execution_count": 17,
   "id": "34933f32",
   "metadata": {},
   "outputs": [],
   "source": [
    "shaprkasse = Account(\"Darko Velkov\", 100)"
   ]
  },
  {
   "cell_type": "code",
   "execution_count": 10,
   "id": "a0ee1bd5",
   "metadata": {},
   "outputs": [
    {
     "data": {
      "text/plain": [
       "'Darko Velkov'"
      ]
     },
     "execution_count": 10,
     "metadata": {},
     "output_type": "execute_result"
    }
   ],
   "source": [
    "shaprkasse.owner"
   ]
  },
  {
   "cell_type": "code",
   "execution_count": 18,
   "id": "1ec0267a",
   "metadata": {},
   "outputs": [
    {
     "name": "stdout",
     "output_type": "stream",
     "text": [
      "Njama dovolno pari bate \n"
     ]
    }
   ],
   "source": [
    "shaprkasse.withdrow(120)"
   ]
  },
  {
   "cell_type": "code",
   "execution_count": 19,
   "id": "bad4d1c6",
   "metadata": {},
   "outputs": [],
   "source": [
    "shaprkasse.withdrow(90)"
   ]
  },
  {
   "cell_type": "code",
   "execution_count": 20,
   "id": "3f4f45da",
   "metadata": {},
   "outputs": [
    {
     "data": {
      "text/plain": [
       "10"
      ]
     },
     "execution_count": 20,
     "metadata": {},
     "output_type": "execute_result"
    }
   ],
   "source": [
    "shaprkasse.balance"
   ]
  },
  {
   "cell_type": "code",
   "execution_count": 21,
   "id": "22fd59a6",
   "metadata": {},
   "outputs": [],
   "source": [
    "shaprkasse.deposit(190)"
   ]
  },
  {
   "cell_type": "code",
   "execution_count": 22,
   "id": "637b543f",
   "metadata": {},
   "outputs": [
    {
     "data": {
      "text/plain": [
       "200"
      ]
     },
     "execution_count": 22,
     "metadata": {},
     "output_type": "execute_result"
    }
   ],
   "source": [
    "shaprkasse.balance"
   ]
  },
  {
   "cell_type": "code",
   "execution_count": 23,
   "id": "8870aec4",
   "metadata": {},
   "outputs": [
    {
     "name": "stdout",
     "output_type": "stream",
     "text": [
      "\f",
      "\n"
     ]
    }
   ],
   "source": [
    "clear"
   ]
  },
  {
   "cell_type": "code",
   "execution_count": null,
   "id": "4b94b0d8",
   "metadata": {},
   "outputs": [],
   "source": []
  }
 ],
 "metadata": {
  "kernelspec": {
   "display_name": "Python 3 (ipykernel)",
   "language": "python",
   "name": "python3"
  },
  "language_info": {
   "codemirror_mode": {
    "name": "ipython",
    "version": 3
   },
   "file_extension": ".py",
   "mimetype": "text/x-python",
   "name": "python",
   "nbconvert_exporter": "python",
   "pygments_lexer": "ipython3",
   "version": "3.11.5"
  }
 },
 "nbformat": 4,
 "nbformat_minor": 5
}
