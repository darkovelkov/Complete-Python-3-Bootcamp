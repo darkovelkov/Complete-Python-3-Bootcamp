{
 "cells": [
  {
   "cell_type": "code",
   "execution_count": null,
   "id": "65f437f1",
   "metadata": {},
   "outputs": [],
   "source": [
    "mylist= list(range(0,10,2))\n",
    "\n",
    "for num in mylist:\n",
    "    print(num)"
   ]
  },
  {
   "cell_type": "code",
   "execution_count": null,
   "id": "9e828862",
   "metadata": {},
   "outputs": [],
   "source": [
    "print(mylist)"
   ]
  },
  {
   "cell_type": "code",
   "execution_count": null,
   "id": "c117b13f",
   "metadata": {},
   "outputs": [],
   "source": [
    "# Using enumerate\n",
    "word=\"Abrakadabra\"\n",
    "\n",
    "for letter,index in enumerate(word):\n",
    "    print(letter)\n",
    "    print(index)\n",
    "    print(\"\\n\")\n"
   ]
  },
  {
   "cell_type": "code",
   "execution_count": null,
   "id": "bfa2a490",
   "metadata": {},
   "outputs": [],
   "source": [
    "clear"
   ]
  },
  {
   "cell_type": "code",
   "execution_count": 11,
   "id": "8212d763",
   "metadata": {},
   "outputs": [],
   "source": [
    "mysecondlist = range(0,10)\n",
    "mythirdlist = ['0','1','2']"
   ]
  },
  {
   "cell_type": "code",
   "execution_count": 12,
   "id": "54800534",
   "metadata": {},
   "outputs": [],
   "source": [
    "myforthlist = list(zip(mysecondlist,mythirdlist))"
   ]
  },
  {
   "cell_type": "code",
   "execution_count": 9,
   "id": "810560f5",
   "metadata": {},
   "outputs": [
    {
     "name": "stdout",
     "output_type": "stream",
     "text": [
      "[(0, '0'), (1, '1'), (2, '2')]\n"
     ]
    }
   ],
   "source": [
    "print(myforthlist)"
   ]
  },
  {
   "cell_type": "code",
   "execution_count": 4,
   "id": "563b426d",
   "metadata": {},
   "outputs": [
    {
     "name": "stdout",
     "output_type": "stream",
     "text": [
      "(0, '0')\n",
      "(1, '1')\n",
      "(2, '2')\n"
     ]
    }
   ],
   "source": [
    "for item in myforthlist:\n",
    "    print(item)"
   ]
  },
  {
   "cell_type": "code",
   "execution_count": 5,
   "id": "39a891e0",
   "metadata": {},
   "outputs": [
    {
     "name": "stdout",
     "output_type": "stream",
     "text": [
      "range(0, 10)\n"
     ]
    }
   ],
   "source": [
    "print(mysecondlist)"
   ]
  },
  {
   "cell_type": "code",
   "execution_count": 6,
   "id": "68273211",
   "metadata": {},
   "outputs": [
    {
     "name": "stdout",
     "output_type": "stream",
     "text": [
      "['0', '1', '2']\n"
     ]
    }
   ],
   "source": [
    "print(mythirdlist)"
   ]
  },
  {
   "cell_type": "code",
   "execution_count": 10,
   "id": "458f07d3",
   "metadata": {},
   "outputs": [
    {
     "data": {
      "text/plain": [
       "list"
      ]
     },
     "execution_count": 10,
     "metadata": {},
     "output_type": "execute_result"
    }
   ],
   "source": [
    "type(myforthlist)"
   ]
  },
  {
   "cell_type": "code",
   "execution_count": 13,
   "id": "d6c247dc",
   "metadata": {},
   "outputs": [
    {
     "data": {
      "text/plain": [
       "True"
      ]
     },
     "execution_count": 13,
     "metadata": {},
     "output_type": "execute_result"
    }
   ],
   "source": [
    "5 in mysecondlist"
   ]
  },
  {
   "cell_type": "code",
   "execution_count": 14,
   "id": "293cffc7",
   "metadata": {},
   "outputs": [
    {
     "data": {
      "text/plain": [
       "True"
      ]
     },
     "execution_count": 14,
     "metadata": {},
     "output_type": "execute_result"
    }
   ],
   "source": [
    "'0' in mythirdlist"
   ]
  },
  {
   "cell_type": "code",
   "execution_count": 15,
   "id": "e1f958fd",
   "metadata": {},
   "outputs": [
    {
     "data": {
      "text/plain": [
       "False"
      ]
     },
     "execution_count": 15,
     "metadata": {},
     "output_type": "execute_result"
    }
   ],
   "source": [
    "5 in myforthlist"
   ]
  },
  {
   "cell_type": "code",
   "execution_count": 16,
   "id": "d68ce3c7",
   "metadata": {},
   "outputs": [
    {
     "name": "stdout",
     "output_type": "stream",
     "text": [
      " This is my input: test\n"
     ]
    }
   ],
   "source": [
    "result = input (\" This is my input: \")"
   ]
  },
  {
   "cell_type": "code",
   "execution_count": 17,
   "id": "a9186778",
   "metadata": {},
   "outputs": [
    {
     "name": "stdout",
     "output_type": "stream",
     "text": [
      "test\n"
     ]
    }
   ],
   "source": [
    "print(result)"
   ]
  },
  {
   "cell_type": "code",
   "execution_count": null,
   "id": "39893f21",
   "metadata": {},
   "outputs": [],
   "source": []
  }
 ],
 "metadata": {
  "kernelspec": {
   "display_name": "Python 3 (ipykernel)",
   "language": "python",
   "name": "python3"
  },
  "language_info": {
   "codemirror_mode": {
    "name": "ipython",
    "version": 3
   },
   "file_extension": ".py",
   "mimetype": "text/x-python",
   "name": "python",
   "nbconvert_exporter": "python",
   "pygments_lexer": "ipython3",
   "version": "3.11.5"
  }
 },
 "nbformat": 4,
 "nbformat_minor": 5
}
