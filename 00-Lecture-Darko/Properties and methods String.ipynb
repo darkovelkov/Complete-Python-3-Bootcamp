{
 "cells": [
  {
   "cell_type": "code",
   "execution_count": 1,
   "id": "42f3e95c",
   "metadata": {},
   "outputs": [],
   "source": [
    "x ='Darko'"
   ]
  },
  {
   "cell_type": "code",
   "execution_count": 2,
   "id": "4f6fccb7",
   "metadata": {},
   "outputs": [
    {
     "data": {
      "text/plain": [
       "'Darko'"
      ]
     },
     "execution_count": 2,
     "metadata": {},
     "output_type": "execute_result"
    }
   ],
   "source": [
    "x"
   ]
  },
  {
   "cell_type": "code",
   "execution_count": 3,
   "id": "be8ad6a9",
   "metadata": {},
   "outputs": [
    {
     "data": {
      "text/plain": [
       "'darko'"
      ]
     },
     "execution_count": 3,
     "metadata": {},
     "output_type": "execute_result"
    }
   ],
   "source": [
    "x.lower()"
   ]
  },
  {
   "cell_type": "code",
   "execution_count": 4,
   "id": "f0b61a0e",
   "metadata": {},
   "outputs": [
    {
     "data": {
      "text/plain": [
       "'DARKO'"
      ]
     },
     "execution_count": 4,
     "metadata": {},
     "output_type": "execute_result"
    }
   ],
   "source": [
    "x.upper()"
   ]
  },
  {
   "cell_type": "code",
   "execution_count": 5,
   "id": "28ea3a78",
   "metadata": {},
   "outputs": [
    {
     "data": {
      "text/plain": [
       "'DarkoDarko'"
      ]
     },
     "execution_count": 5,
     "metadata": {},
     "output_type": "execute_result"
    }
   ],
   "source": [
    "x*2"
   ]
  },
  {
   "cell_type": "code",
   "execution_count": 6,
   "id": "ef782ad9",
   "metadata": {},
   "outputs": [],
   "source": [
    "# * is used to multiple the string and + is to concatenate"
   ]
  },
  {
   "cell_type": "code",
   "execution_count": 7,
   "id": "ab3f7b22",
   "metadata": {},
   "outputs": [
    {
     "ename": "TypeError",
     "evalue": "can only concatenate str (not \"int\") to str",
     "output_type": "error",
     "traceback": [
      "\u001b[1;31m---------------------------------------------------------------------------\u001b[0m",
      "\u001b[1;31mTypeError\u001b[0m                                 Traceback (most recent call last)",
      "Cell \u001b[1;32mIn[7], line 1\u001b[0m\n\u001b[1;32m----> 1\u001b[0m x \u001b[38;5;241m+\u001b[39m \u001b[38;5;241m2\u001b[39m\n",
      "\u001b[1;31mTypeError\u001b[0m: can only concatenate str (not \"int\") to str"
     ]
    }
   ],
   "source": [
    "x + 2"
   ]
  },
  {
   "cell_type": "code",
   "execution_count": 8,
   "id": "386d70b7",
   "metadata": {},
   "outputs": [
    {
     "data": {
      "text/plain": [
       "'Darko2'"
      ]
     },
     "execution_count": 8,
     "metadata": {},
     "output_type": "execute_result"
    }
   ],
   "source": [
    "x + '2'"
   ]
  },
  {
   "cell_type": "code",
   "execution_count": null,
   "id": "bca7bd77",
   "metadata": {},
   "outputs": [],
   "source": []
  }
 ],
 "metadata": {
  "kernelspec": {
   "display_name": "Python 3 (ipykernel)",
   "language": "python",
   "name": "python3"
  },
  "language_info": {
   "codemirror_mode": {
    "name": "ipython",
    "version": 3
   },
   "file_extension": ".py",
   "mimetype": "text/x-python",
   "name": "python",
   "nbconvert_exporter": "python",
   "pygments_lexer": "ipython3",
   "version": "3.11.5"
  }
 },
 "nbformat": 4,
 "nbformat_minor": 5
}
